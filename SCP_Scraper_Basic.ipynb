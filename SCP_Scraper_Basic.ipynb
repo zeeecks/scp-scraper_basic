{
  "nbformat": 4,
  "nbformat_minor": 0,
  "metadata": {
    "colab": {
      "name": "SCP-Scraper_Basic",
      "provenance": [],
      "collapsed_sections": []
    },
    "kernelspec": {
      "name": "python3",
      "display_name": "Python 3"
    },
    "language_info": {
      "name": "python"
    }
  },
  "cells": [
    {
      "cell_type": "code",
      "source": [
        "import requests\n",
        "from google.colab import files\n",
        "import shutil\n",
        "from bs4 import BeautifulSoup"
      ],
      "metadata": {
        "id": "sFYesZLnMIwN"
      },
      "execution_count": 1,
      "outputs": []
    },
    {
      "cell_type": "code",
      "source": [
        "import html\n",
        "print(html.unescape('&pound;682m'))"
      ],
      "metadata": {
        "colab": {
          "base_uri": "https://localhost:8080/"
        },
        "id": "cj9tRTfIkx7w",
        "outputId": "9a47e639-02a5-436f-b5eb-3478a09c30c9"
      },
      "execution_count": 2,
      "outputs": [
        {
          "output_type": "stream",
          "name": "stdout",
          "text": [
            "£682m\n"
          ]
        }
      ]
    },
    {
      "cell_type": "code",
      "source": [
        "%rm -rf 1-100\n",
        "%rm -rf 1-100_content\n",
        "%rm -rf 1-100_content-text\n",
        "%rm -rf 1-100_soup-text\n",
        "%rm -rf logs\n",
        "\n",
        "!mkdir 1-100\n",
        "!mkdir 1-100_content\n",
        "!mkdir 1-100_content-text\n",
        "!mkdir 1-100_soup-text\n",
        "!mkdir logs"
      ],
      "metadata": {
        "id": "Chl9xPa93cUL"
      },
      "execution_count": 3,
      "outputs": []
    },
    {
      "cell_type": "code",
      "source": [
        "#################### TIME ####################\n",
        "\n",
        "import time;\n",
        "def fill_time(arg_time):\n",
        "\tif len(arg_time) < 2:\n",
        "\t\tres = \"0\" + arg_time\n",
        "\telse:\n",
        "\t\tres = arg_time\n",
        "\treturn res\n",
        "\n",
        "def absvalue(arg_time):\n",
        "  if arg_time < 0:\n",
        "    return (24 + arg_time)\n",
        "  else:\n",
        "    return arg_time\n",
        "\n",
        "def get_timestamp(arg_tz):\n",
        "  localtime = time.localtime(time.time())\n",
        "  time_str = time.asctime(time.localtime(time.time()))\n",
        "  y = fill_time(str(localtime[0])[2:4])\n",
        "  mo = fill_time(str(localtime[1]))\n",
        "  d = fill_time(str(localtime[2]))\n",
        "  h = fill_time(str(absvalue(localtime[3] + arg_tz)))\n",
        "  min = fill_time(str(localtime[4]))\n",
        "  s = fill_time(str(localtime[5]))\n",
        "  timestamp = y + mo + d + \"-\" + h + min + s\n",
        "  # print(\"Local current time :\", time_str, \"timestamp:\", timestamp)\n",
        "  return timestamp"
      ],
      "metadata": {
        "id": "IbIDGwMQueJh"
      },
      "execution_count": 4,
      "outputs": []
    },
    {
      "cell_type": "code",
      "source": [
        "import re\n",
        "\n",
        "def remove_tags(arg_line_str):\n",
        "  res_str = re.sub(r\"<[^>]*>\", \"\", arg_line_str)\n",
        "  return(res_str.strip())\n",
        "\n",
        "def remove_3_newlines(arg_line_str):\n",
        "  res_str = re.sub(r\"(\\\\n){3,}\", \"\\n\\n\", arg_line_str)\n",
        "  return(res_str)"
      ],
      "metadata": {
        "id": "XZlUPPYQiCyQ"
      },
      "execution_count": 5,
      "outputs": []
    },
    {
      "cell_type": "code",
      "source": [
        "def write_log(arg_text, arg_log_file):\n",
        "  fname = \"/content/logs/\" + arg_log_file + \".txt\"\n",
        "  f = open(fname, \"a\")\n",
        "  f.write(arg_text)\n",
        "  f.close()"
      ],
      "metadata": {
        "id": "AqonhcXPuS1F"
      },
      "execution_count": 6,
      "outputs": []
    },
    {
      "cell_type": "code",
      "source": [
        "def write_file(arg_directory, arg_fname, arg_ext, arg_text, arg_log_file, arg_mode = \"w\"):\n",
        "  fname = arg_directory + \"/\" + arg_fname + arg_ext\n",
        "  f = open(fname, arg_mode)\n",
        "  f.write(arg_text)\n",
        "  f.close()\n",
        "  log_txt = \"Written \\\"\" + arg_fname + \" \\\"as \\\"\" + arg_ext + \"\\\" to \\\"\" + arg_directory + \"\\\" containing \" + str(len(arg_text)) + \" characters in \" + str(len(arg_text.split(\"\\n\"))) + \" lines.\"\n",
        "  # print(log_txt)\n",
        "  write_log(log_txt + \"\\n\", arg_log_file)"
      ],
      "metadata": {
        "id": "Fo4re71meRZZ"
      },
      "execution_count": 7,
      "outputs": []
    },
    {
      "cell_type": "code",
      "execution_count": 8,
      "metadata": {
        "id": "NtrjHhJ4LwW_"
      },
      "outputs": [],
      "source": [
        "def make_scp_idx(arg_scp):\n",
        "  if len(str(arg_scp)) < 3:\n",
        "    scp_str = (\"0\" * (3 - len(str(arg_scp)))) + str(arg_scp)\n",
        "    return(scp_str)\n",
        "  return(str(arg_scp))\n",
        "\n",
        "# <div class=\"page-tags\">\n",
        "#   <span>\n",
        "#       <a href=\"/system:page-tags/tag/_cc#pages\">_cc</a><a href=\"/system:page-tags/tag/_licensebox#pages\">_licensebox</a><a href=\"/system:page-tags/tag/euclid#pages\">euclid</a><a href=\"/system:page-tags/tag/liquid#pages\">liquid</a><a href=\"/system:page-tags/tag/scp#pages\">scp</a><a href=\"/system:page-tags/tag/self-replicating#pages\">self-replicating</a><a href=\"/system:page-tags/tag/thermal#pages\">thermal</a>\n",
        "#   </span>\n",
        "# </div>\n",
        "\n",
        "tags_to_ignore = [\"_cc\", \"_licensebox\"]\n",
        "# get page tags\n",
        "def get_page_tags(arg_scp_str, arg_text, arg_dict):\n",
        "  tags_html = arg_text.split(\"<div class=\\\"page-tags\\\">\")[1].split(\"</div>\")[0].strip()\n",
        "  soup_tags = BeautifulSoup(tags_html, 'html.parser').get_text(separator=u' ').strip().split(\" \")\n",
        "  tags = [tag for tag in soup_tags if tag not in tags_to_ignore]\n",
        "  # print(tags)\n",
        "  arg_dict[arg_scp_str] = tags\n",
        "\n",
        "  return (\", \".join(tags))\n",
        "\n",
        "# get the html file\n",
        "def write_raw_html_file(arg_directory, arg_scp_str, arg_text, arg_log_file):\n",
        "  write_file(arg_directory, \"scp-\" + arg_scp_str, \".html\", arg_text, arg_log_file)\n",
        "\n",
        "# between main content and scripts\n",
        "def write_html_section_file(arg_directory, arg_scp_str, arg_text, arg_log_file):\n",
        "  content = arg_text.split(\"<div id=\\\"main-content\\\">\")[1].split(\"<script>\")[0].strip()\n",
        "  soup_content = BeautifulSoup(content, 'html.parser').prettify()\n",
        "  write_file(arg_directory, \"scp-\" + arg_scp_str, \".html\", soup_content, arg_log_file)\n",
        "  return(content)\n",
        "\n",
        "# no tags\n",
        "def write_text_content_file(arg_directory, arg_scp_str, arg_text, arg_log_file):\n",
        "  text_content = html.unescape(remove_tags(arg_text).strip())\n",
        "  write_file(arg_directory, \"scp-\" + arg_scp_str, \".txt\", text_content, arg_log_file)\n",
        "  # return(text_content)\n",
        "\n",
        "# append line\n",
        "def append_to_p_tag(arg_line):\n",
        "  try:\n",
        "    if \"<p\" in arg_line.strip()[:2]:\n",
        "      return(\"\\n<p>\\n\" + arg_line.strip())\n",
        "    else:\n",
        "      return(arg_line.strip())\n",
        "  except:\n",
        "    return(arg_line.strip())\n",
        "\n",
        "# souped text \n",
        "def write_soup_text_file(arg_directory, arg_scp_str, arg_text, arg_log_file):\n",
        "  text_lines = str(BeautifulSoup(arg_text, 'html.parser')).split(\"\\n\")\n",
        "  reconstructed_text = \"\"\n",
        "  for line in text_lines:\n",
        "    reconstructed_text += append_to_p_tag(line) + \"\\n\"\n",
        "  reconstructed_text = remove_3_newlines(BeautifulSoup(reconstructed_text, 'html.parser').get_text().strip())\n",
        "  write_file(arg_directory, \"scp-\" + arg_scp_str, \".txt\", reconstructed_text, arg_log_file)\n",
        "\n",
        "def get_page_source_text(arg_scp, arg_dict, arg_log_file):\n",
        "  scp_str = make_scp_idx(arg_scp)\n",
        "  URL = \"https://scp-wiki.wikidot.com/scp-\" + scp_str\n",
        "  page = requests.get(URL)\n",
        "  write_raw_html_file(\"/content/1-100\", scp_str, page.text, arg_log_file)\n",
        "  tags = get_page_tags(scp_str, page.text, arg_dict)\n",
        "  try:\n",
        "    html_main_content = write_html_section_file(\"/content/1-100_content\", scp_str, page.text, arg_log_file)\n",
        "    write_soup_text_file(\"/content/1-100_soup-text\", scp_str, html_main_content, arg_log_file)\n",
        "    write_text_content_file(\"/content/1-100_content-text\", scp_str, html_main_content, arg_log_file)\n",
        "  except:\n",
        "    print(\"Error with SCP-\" + str(arg_scp))\n",
        "    write_log(\"Error with SCP-\" + str(arg_scp) + \".\\n\", arg_log_file)\n",
        "  return(page.text)"
      ]
    },
    {
      "cell_type": "code",
      "source": [
        "# log_fname = \"log_\" + get_timestamp(-5)\n",
        "# scp_str = make_scp_idx(29)\n",
        "# URL = \"https://scp-wiki.wikidot.com/scp-\" + scp_str\n",
        "# page = requests.get(URL)\n",
        "# html_main_content = write_html_section_file(\"/content/1-100_content\", scp_str, page.text, log_fname)\n",
        "# write_soup_text_file(\"/content/1-100_soup-text\", scp_str, html_main_content, log_fname)"
      ],
      "metadata": {
        "id": "CvkPKsPZ3VAd"
      },
      "execution_count": 9,
      "outputs": []
    },
    {
      "cell_type": "code",
      "source": [
        "tags_dict = {}\n",
        "log_fname = \"log_\" + get_timestamp(-5)\n",
        "for i in range(0, 101):\n",
        "  x = get_page_source_text(i, tags_dict, log_fname)\n",
        "print(tags_dict)"
      ],
      "metadata": {
        "colab": {
          "base_uri": "https://localhost:8080/"
        },
        "id": "MBUxxBovO-Fz",
        "outputId": "f838ec1f-f018-43c4-9ff7-295da82b0f95"
      },
      "execution_count": 10,
      "outputs": [
        {
          "output_type": "stream",
          "name": "stdout",
          "text": [
            "['pattern-screamer', 'researcher-rosen', 'tale']\n",
            "['hub']\n",
            "['alive', 'euclid', 'featured', 'scp', 'structure', 'transfiguration']\n",
            "['alive', 'biological', 'computer', 'director-moose', 'euclid', 'featured', 'k-class-scenario', 'mind-affecting', 'organic', 'radioactive', 'rewrite', 'scp', 'self-replicating', 'telepathic', 'thermal', 'transfiguration']\n",
            "['euclid', 'key', 'mind-affecting', 'portal', 'scp', 'spacetime', 'structure', 'temporal']\n",
            "['adaptive', 'key', 'metallic', 'safe', 'scp', 'sentient']\n",
            "['liquid', 'location', 'medical', 'rewrite', 'safe', 'scp', 'self-repairing']\n",
            "['alive', 'euclid', 'humanoid', 'miniature', 'planet', 'scp']\n",
            "['alive', 'biohazard', 'contagion', 'euclid', 'reanimation', 'scp', 'transfiguration']\n",
            "['euclid', 'liquid', 'scp', 'self-replicating', 'thermal']\n",
            "['artifact', 'compulsion', 'electronic', 'mind-affecting', 'safe', 'scp']\n",
            "['autonomous', 'humanoid', 'military', 'safe', 'sapient', 'scp', 'sentient', 'statue']\n",
            "['cognitohazard', 'document', 'euclid', 'mind-affecting', 'musical', 'scp', 'visual']\n",
            "['artifact', 'mind-affecting', 'safe', 'scp', 'sensory']\n",
            "['humanoid', 'safe', 'sapient', 'scp', 'sentient']\n",
            "['euclid', 'scp', 'self-replicating', 'sentient', 'structure']\n",
            "['alive', 'biohazard', 'contagion', 'keter', 'sapient', 'scp', 'species', 'transfiguration']\n",
            "['hostile', 'humanoid', 'keter', 'light', 'scp', 'shadow']\n",
            "['ectoentropic', 'euclid', 'scp', 'sphere', 'toy']\n",
            "['adaptive', 'alive', 'container', 'ectoentropic', 'hostile', 'keter', 'scp', 'sentient']\n",
            "['alive', 'biohazard', 'contagion', 'fungus', 'keter', 'mind-affecting', 'scp', 'sensory', 'species']\n",
            "['alive', 'artistic', 'parasitic', 'reptilian', 'safe', 'scp']\n",
            "['autonomous', 'building', 'cadaver', 'euclid', 'humanoid', 'reanimation', 'scp']\n",
            "['alive', 'animal', 'canine', 'cognitohazard', 'euclid', 'fire', 'intangible', 'scp', 'sun', 'teleportation', 'visual']\n",
            "['ectoentropic', 'euclid', 'game', 'media', 'recording', 'scp', 'structure']\n",
            "['clothing', 'furniture', 'predictive', 'safe', 'scp']\n",
            "['building', 'euclid', 'humanoid', 'mind-affecting', 'scp', 'sleep']\n",
            "['alive', 'animal', 'compulsion', 'contagion', 'euclid', 'humanoid', 'insect', 'murine', 'scp']\n",
            "['event-featured', 'knowledge', 'location', 'mind-affecting', 'safe', 'scp']\n",
            "['alive', 'compulsion', 'hostile', 'humanoid', 'keter', 'light', 'mind-affecting', 'scp']\n",
            "['autonomous', 'clay', 'humanoid', 'knowledge', 'language', 'light', 'organic', 'safe', 'sapient', 'scp', 'sentient']\n",
            "['alive', 'amorphous', 'cognitohazard', 'euclid', 'hallucination', 'hostile', 'maria-jones', 'metamorphic', 'mimetic', 'parasitic', 'predatory', 'rewrite', 'scp', 'sensory', 'sentient', 'visual']\n",
            "['autonomous', 'biohazard', 'brothers-of-death', 'euclid', 'humanoid', 'sapient', 'scp', 'sentient']\n",
            "['euclid', 'mathematical', 'scp', 'self-replicating']\n",
            "['mimetic', 'safe', 'scp', 'stone', 'tool', 'transfiguration', 'weapon']\n",
            "['clothing', 'cognitohazard', 'ectoentropic', 'keter', 'mind-affecting', 'sapient', 'scp', 'sentient', 'telepathic', 'visual']\n",
            "['humanoid', 'location', 'religious', 'safe', 'scp', 'vehicle']\n",
            "['airborne', 'euclid', 'extraterrestrial', 'rewrite', 'scp', 'sun']\n",
            "['alive', 'arboreal', 'metamorphic', 'mimetic', 'plant', 'safe', 'scp', 'the-sculpture']\n",
            "['alive', 'animal', 'euclid', 'humanoid', 'rewrite', 'sapient', 'scp', 'sentient', 'simian', 'species']\n",
            "['alive', 'ectoentropic', 'esoteric-class', 'humanoid', 'rewrite', 'sapient', 'scp', 'sentient', 'transfiguration']\n",
            "['alive', 'humanoid', 'safe', 'sapient', 'scp', 'sentient', 'telepathic']\n",
            "['alive', 'animal', 'equine', 'mind-affecting', 'rewrite', 'safe', 'scp', 'sentient']\n",
            "['knowledge', 'media', 'recording', 'safe', 'sapient', 'scp', 'sentient']\n",
            "['ectoentropic', 'mechanical', 'military', 'safe', 'scp', 'the-administrator', 'weapon']\n",
            "['chemical', 'ectoentropic', 'extradimensional', 'geological', 'liquid', 'polyhedral', 'rewrite', 'safe', 'scp']\n",
            "['biological', 'carnivorous', 'compulsion', 'euclid', 'hallucination', 'infohazard', 'plant', 'predatory', 'scp']\n",
            "['contagion', 'container', 'gaseous', 'keter', 'scp', 'transfiguration']\n",
            "['esoteric-class', 'mathematical', 'meta', 'probability', 'scp']\n",
            "['audio', 'biological', 'chemical', 'co-authored', 'contagion', 'euclid', 'humanoid', 'plague-doctor', 'reanimation', 'rewrite', 'sapient', 'scp', 'sentient', 'tactile']\n",
            "['euclid', 'indestructible', 'sapient', 'scp', 'sentient', 'simian', 'statue']\n",
            "['compulsion', 'humanoid', 'reproductive', 'safe', 'scp', 'transfiguration']\n",
            "['euclid', 'loop', 'scp', 'subterranean', 'temporal', 'vehicle']\n",
            "['alive', 'cognitohazard', 'euclid', 'humanoid', 'mind-affecting', 'sapient', 'scp', 'sentient', 'tactile', 'visual']\n",
            "['amorphous', 'humanoid', 'liquid', 'rewrite', 'safe', 'sapient', 'scp', 'sentient']\n",
            "['antimemetic', 'co-authored', 'featured', 'infohazard', 'keter', 'memory-affecting', 'meta', 'scp']\n",
            "['euclid', 'humanoid', 'metamorphic', 'mind-affecting', 'observational', 'sapient', 'scp', 'sentient']\n",
            "['autonomous', 'co-authored', 'safe', 'scp', 'stone', 'structure', 'subterranean']\n",
            "['alive', 'auditory', 'bovine', 'hostile', 'keter', 'scp', 'sentient']\n",
            "['alive', 'biohazard', 'contagion', 'extradimensional', 'fungus', 'keter', 'radioactive', 'rewrite', 'scp']\n",
            "['alive', 'arboreal', 'fire', 'hostile', 'humanoid', 'keter', 'plant', 'reanimation', 'scp', 'sentient', 'skeletal']\n",
            "['auditory', 'compulsion', 'foundation-made', 'mind-affecting', 'safe', 'scp']\n",
            "['computer', 'electronic', 'euclid', 'extradimensional', 'knowledge', 'language', 'rewrite', 'scp']\n",
            "['ectoentropic', 'radioactive', 'safe', 'scp', 'tool']\n",
            "['artifact', 'safe', 'scp', 'self-replicating', 'structure']\n",
            "['auditory', 'euclid', 'genetic', 'global-occult-coalition', 'location', 'reanimation', 'scp', 'sensory', 'transfiguration', 'visual']\n",
            "['amorphous', 'autonomous', 'eric', 'euclid', 'rewrite', 'scp', 'toy']\n",
            "['artistic', 'autonomous', 'instrument', 'safe', 'scp', 'tool']\n",
            "['autonomous', 'humanoid', 'indestructible', 'metallic', 'safe', 'scp', 'self-replicating']\n",
            "['alive', 'cadaver', 'featured', 'humanoid', 'metamorphic', 'mimetic', 'safe', 'sapient', 'scp', 'self-repairing', 'sentient', 'telepathic', 'teleportation']\n",
            "['alive', 'autonomous', 'humanoid', 'metallic', 'safe', 'scp']\n",
            "['autonomous', 'euclid', 'metamorphic', 'observational', 'scp', 'sexual', 'telepathic']\n",
            "['autonomous', 'extremity', 'intangible', 'mind-affecting', 'safe', 'scp', 'self-replicating', 'sleep', 'transfiguration']\n",
            "['able', 'alive', 'cain', 'carnivorous', 'engraved', 'euclid', 'humanoid', 'indestructible', 'metallic', 'sapient', 'scp', 'sentient']\n",
            "['alive', 'arthropod', 'euclid', 'infohazard', 'meta', 'parasitic', 'physics', 'radioactive', 'scp', 'teleportation']\n",
            "['alive', 'corrosive', 'euclid', 'predatory', 'rewrite', 'scp']\n",
            "['able', 'alive', 'engraved', 'extradimensional', 'hostile', 'humanoid', 'keter', 'rewrite', 'scp', 'sentient']\n",
            "['cognitohazard', 'engraved', 'euclid', 'historical', 'humanoid', 'rewrite', 'ritual', 'scp', 'skeletal', 'visual']\n",
            "['cognitohazard', 'electrical', 'euclid', 'language', 'mind-affecting', 'scp', 'visual']\n",
            "['computer', 'electronic', 'euclid', 'hard-to-kill-reptile', 'media', 'sapient', 'scp', 'sentient']\n",
            "['euclid', 'intangible', 'mind-affecting', 'scp', 'sleep', 'visual']\n",
            "['euclid', 'fire', 'mind-affecting', 'scp', 'uncontained', 'virus']\n",
            "['alive', 'carnivorous', 'euclid', 'humanoid', 'sapient', 'scp', 'sentient']\n",
            "['building', 'euclid', 'extradimensional', 'portal', 'scp', 'spacetime']\n",
            "['euclid', 'radioactive', 'scp', 'spacetime', 'structure']\n",
            "['artistic', 'autonomous', 'foundation-made', 'humanoid', 'inscription', 'mobile', 'safe', 'sapient', 'scp', 'sentient', 'visual']\n",
            "['appliance', 'biological', 'furniture', 'organic', 'rewrite', 'safe', 'sapient', 'scp', 'sentient', 'tool']\n",
            "['acoustic', 'building', 'euclid', 'light', 'location', 'scp', 'spacetime']\n",
            "['alive', 'biohazard', 'corrosive', 'humanoid', 'mind-affecting', 'safe', 'scp', 'self-replicating', 'toxic', 'transfiguration']\n",
            "['euclid', 'fire', 'humanoid', 'predictive', 'religious', 'ritual', 'scp', 'statue']\n",
            "['artifact', 'autonomous', 'cube', 'indestructible', 'keter', 'predictive', 'scp', 'sentient']\n",
            "['cognitohazard', 'container', 'memory-affecting', 'mind-affecting', 'safe', 'scp', 'visual']\n",
            "['are-we-cool-yet', 'auditory', 'cognitohazard', 'compulsion', 'extradimensional', 'mathematical', 'media', 'musical', 'recording', 'rewrite', 'safe', 'scp', 'telekinetic', 'transfiguration']\n",
            "['artifact', 'autonomous', 'engraved', 'euclid', 'extradimensional', 'featured', 'indestructible', 'portal', 'rewrite', 'scp', 'stone']\n",
            "['acoustic', 'keter', 'rewrite', 'scp', 'spacetime', 'sphere']\n",
            "['artistic', 'document', 'predictive', 'safe', 'scp']\n",
            "['alive', 'cognitohazard', 'doctor-dan', 'euclid', 'humanoid', 'scp', 'visual']\n",
            "['euclid', 'location', 'mind-affecting', 'plant', 'scp', 'sleep', 'vehicle']\n",
            "['alive', 'arthropod', 'featured', 'safe', 'scp', 'species']\n",
            "['artistic', 'cognitohazard', 'mind-affecting', 'rewrite', 'safe', 'scp', 'visual']\n",
            "['automaton', 'euclid', 'humanoid', 'location', 'metallic', 'sapient', 'scp', 'self-replicating', 'sentient']\n",
            "{'000': ['pattern-screamer', 'researcher-rosen', 'tale'], '001': ['hub'], '002': ['alive', 'euclid', 'featured', 'scp', 'structure', 'transfiguration'], '003': ['alive', 'biological', 'computer', 'director-moose', 'euclid', 'featured', 'k-class-scenario', 'mind-affecting', 'organic', 'radioactive', 'rewrite', 'scp', 'self-replicating', 'telepathic', 'thermal', 'transfiguration'], '004': ['euclid', 'key', 'mind-affecting', 'portal', 'scp', 'spacetime', 'structure', 'temporal'], '005': ['adaptive', 'key', 'metallic', 'safe', 'scp', 'sentient'], '006': ['liquid', 'location', 'medical', 'rewrite', 'safe', 'scp', 'self-repairing'], '007': ['alive', 'euclid', 'humanoid', 'miniature', 'planet', 'scp'], '008': ['alive', 'biohazard', 'contagion', 'euclid', 'reanimation', 'scp', 'transfiguration'], '009': ['euclid', 'liquid', 'scp', 'self-replicating', 'thermal'], '010': ['artifact', 'compulsion', 'electronic', 'mind-affecting', 'safe', 'scp'], '011': ['autonomous', 'humanoid', 'military', 'safe', 'sapient', 'scp', 'sentient', 'statue'], '012': ['cognitohazard', 'document', 'euclid', 'mind-affecting', 'musical', 'scp', 'visual'], '013': ['artifact', 'mind-affecting', 'safe', 'scp', 'sensory'], '014': ['humanoid', 'safe', 'sapient', 'scp', 'sentient'], '015': ['euclid', 'scp', 'self-replicating', 'sentient', 'structure'], '016': ['alive', 'biohazard', 'contagion', 'keter', 'sapient', 'scp', 'species', 'transfiguration'], '017': ['hostile', 'humanoid', 'keter', 'light', 'scp', 'shadow'], '018': ['ectoentropic', 'euclid', 'scp', 'sphere', 'toy'], '019': ['adaptive', 'alive', 'container', 'ectoentropic', 'hostile', 'keter', 'scp', 'sentient'], '020': ['alive', 'biohazard', 'contagion', 'fungus', 'keter', 'mind-affecting', 'scp', 'sensory', 'species'], '021': ['alive', 'artistic', 'parasitic', 'reptilian', 'safe', 'scp'], '022': ['autonomous', 'building', 'cadaver', 'euclid', 'humanoid', 'reanimation', 'scp'], '023': ['alive', 'animal', 'canine', 'cognitohazard', 'euclid', 'fire', 'intangible', 'scp', 'sun', 'teleportation', 'visual'], '024': ['ectoentropic', 'euclid', 'game', 'media', 'recording', 'scp', 'structure'], '025': ['clothing', 'furniture', 'predictive', 'safe', 'scp'], '026': ['building', 'euclid', 'humanoid', 'mind-affecting', 'scp', 'sleep'], '027': ['alive', 'animal', 'compulsion', 'contagion', 'euclid', 'humanoid', 'insect', 'murine', 'scp'], '028': ['event-featured', 'knowledge', 'location', 'mind-affecting', 'safe', 'scp'], '029': ['alive', 'compulsion', 'hostile', 'humanoid', 'keter', 'light', 'mind-affecting', 'scp'], '030': ['autonomous', 'clay', 'humanoid', 'knowledge', 'language', 'light', 'organic', 'safe', 'sapient', 'scp', 'sentient'], '031': ['alive', 'amorphous', 'cognitohazard', 'euclid', 'hallucination', 'hostile', 'maria-jones', 'metamorphic', 'mimetic', 'parasitic', 'predatory', 'rewrite', 'scp', 'sensory', 'sentient', 'visual'], '032': ['autonomous', 'biohazard', 'brothers-of-death', 'euclid', 'humanoid', 'sapient', 'scp', 'sentient'], '033': ['euclid', 'mathematical', 'scp', 'self-replicating'], '034': ['mimetic', 'safe', 'scp', 'stone', 'tool', 'transfiguration', 'weapon'], '035': ['clothing', 'cognitohazard', 'ectoentropic', 'keter', 'mind-affecting', 'sapient', 'scp', 'sentient', 'telepathic', 'visual'], '036': ['humanoid', 'location', 'religious', 'safe', 'scp', 'vehicle'], '037': ['airborne', 'euclid', 'extraterrestrial', 'rewrite', 'scp', 'sun'], '038': ['alive', 'arboreal', 'metamorphic', 'mimetic', 'plant', 'safe', 'scp', 'the-sculpture'], '039': ['alive', 'animal', 'euclid', 'humanoid', 'rewrite', 'sapient', 'scp', 'sentient', 'simian', 'species'], '040': ['alive', 'ectoentropic', 'esoteric-class', 'humanoid', 'rewrite', 'sapient', 'scp', 'sentient', 'transfiguration'], '041': ['alive', 'humanoid', 'safe', 'sapient', 'scp', 'sentient', 'telepathic'], '042': ['alive', 'animal', 'equine', 'mind-affecting', 'rewrite', 'safe', 'scp', 'sentient'], '043': ['knowledge', 'media', 'recording', 'safe', 'sapient', 'scp', 'sentient'], '044': ['ectoentropic', 'mechanical', 'military', 'safe', 'scp', 'the-administrator', 'weapon'], '045': ['chemical', 'ectoentropic', 'extradimensional', 'geological', 'liquid', 'polyhedral', 'rewrite', 'safe', 'scp'], '046': ['biological', 'carnivorous', 'compulsion', 'euclid', 'hallucination', 'infohazard', 'plant', 'predatory', 'scp'], '047': ['contagion', 'container', 'gaseous', 'keter', 'scp', 'transfiguration'], '048': ['esoteric-class', 'mathematical', 'meta', 'probability', 'scp'], '049': ['audio', 'biological', 'chemical', 'co-authored', 'contagion', 'euclid', 'humanoid', 'plague-doctor', 'reanimation', 'rewrite', 'sapient', 'scp', 'sentient', 'tactile'], '050': ['euclid', 'indestructible', 'sapient', 'scp', 'sentient', 'simian', 'statue'], '051': ['compulsion', 'humanoid', 'reproductive', 'safe', 'scp', 'transfiguration'], '052': ['euclid', 'loop', 'scp', 'subterranean', 'temporal', 'vehicle'], '053': ['alive', 'cognitohazard', 'euclid', 'humanoid', 'mind-affecting', 'sapient', 'scp', 'sentient', 'tactile', 'visual'], '054': ['amorphous', 'humanoid', 'liquid', 'rewrite', 'safe', 'sapient', 'scp', 'sentient'], '055': ['antimemetic', 'co-authored', 'featured', 'infohazard', 'keter', 'memory-affecting', 'meta', 'scp'], '056': ['euclid', 'humanoid', 'metamorphic', 'mind-affecting', 'observational', 'sapient', 'scp', 'sentient'], '057': ['autonomous', 'co-authored', 'safe', 'scp', 'stone', 'structure', 'subterranean'], '058': ['alive', 'auditory', 'bovine', 'hostile', 'keter', 'scp', 'sentient'], '059': ['alive', 'biohazard', 'contagion', 'extradimensional', 'fungus', 'keter', 'radioactive', 'rewrite', 'scp'], '060': ['alive', 'arboreal', 'fire', 'hostile', 'humanoid', 'keter', 'plant', 'reanimation', 'scp', 'sentient', 'skeletal'], '061': ['auditory', 'compulsion', 'foundation-made', 'mind-affecting', 'safe', 'scp'], '062': ['computer', 'electronic', 'euclid', 'extradimensional', 'knowledge', 'language', 'rewrite', 'scp'], '063': ['ectoentropic', 'radioactive', 'safe', 'scp', 'tool'], '064': ['artifact', 'safe', 'scp', 'self-replicating', 'structure'], '065': ['auditory', 'euclid', 'genetic', 'global-occult-coalition', 'location', 'reanimation', 'scp', 'sensory', 'transfiguration', 'visual'], '066': ['amorphous', 'autonomous', 'eric', 'euclid', 'rewrite', 'scp', 'toy'], '067': ['artistic', 'autonomous', 'instrument', 'safe', 'scp', 'tool'], '068': ['autonomous', 'humanoid', 'indestructible', 'metallic', 'safe', 'scp', 'self-replicating'], '069': ['alive', 'cadaver', 'featured', 'humanoid', 'metamorphic', 'mimetic', 'safe', 'sapient', 'scp', 'self-repairing', 'sentient', 'telepathic', 'teleportation'], '070': ['alive', 'autonomous', 'humanoid', 'metallic', 'safe', 'scp'], '071': ['autonomous', 'euclid', 'metamorphic', 'observational', 'scp', 'sexual', 'telepathic'], '072': ['autonomous', 'extremity', 'intangible', 'mind-affecting', 'safe', 'scp', 'self-replicating', 'sleep', 'transfiguration'], '073': ['able', 'alive', 'cain', 'carnivorous', 'engraved', 'euclid', 'humanoid', 'indestructible', 'metallic', 'sapient', 'scp', 'sentient'], '074': ['alive', 'arthropod', 'euclid', 'infohazard', 'meta', 'parasitic', 'physics', 'radioactive', 'scp', 'teleportation'], '075': ['alive', 'corrosive', 'euclid', 'predatory', 'rewrite', 'scp'], '076': ['able', 'alive', 'engraved', 'extradimensional', 'hostile', 'humanoid', 'keter', 'rewrite', 'scp', 'sentient'], '077': ['cognitohazard', 'engraved', 'euclid', 'historical', 'humanoid', 'rewrite', 'ritual', 'scp', 'skeletal', 'visual'], '078': ['cognitohazard', 'electrical', 'euclid', 'language', 'mind-affecting', 'scp', 'visual'], '079': ['computer', 'electronic', 'euclid', 'hard-to-kill-reptile', 'media', 'sapient', 'scp', 'sentient'], '080': ['euclid', 'intangible', 'mind-affecting', 'scp', 'sleep', 'visual'], '081': ['euclid', 'fire', 'mind-affecting', 'scp', 'uncontained', 'virus'], '082': ['alive', 'carnivorous', 'euclid', 'humanoid', 'sapient', 'scp', 'sentient'], '083': ['building', 'euclid', 'extradimensional', 'portal', 'scp', 'spacetime'], '084': ['euclid', 'radioactive', 'scp', 'spacetime', 'structure'], '085': ['artistic', 'autonomous', 'foundation-made', 'humanoid', 'inscription', 'mobile', 'safe', 'sapient', 'scp', 'sentient', 'visual'], '086': ['appliance', 'biological', 'furniture', 'organic', 'rewrite', 'safe', 'sapient', 'scp', 'sentient', 'tool'], '087': ['acoustic', 'building', 'euclid', 'light', 'location', 'scp', 'spacetime'], '088': ['alive', 'biohazard', 'corrosive', 'humanoid', 'mind-affecting', 'safe', 'scp', 'self-replicating', 'toxic', 'transfiguration'], '089': ['euclid', 'fire', 'humanoid', 'predictive', 'religious', 'ritual', 'scp', 'statue'], '090': ['artifact', 'autonomous', 'cube', 'indestructible', 'keter', 'predictive', 'scp', 'sentient'], '091': ['cognitohazard', 'container', 'memory-affecting', 'mind-affecting', 'safe', 'scp', 'visual'], '092': ['are-we-cool-yet', 'auditory', 'cognitohazard', 'compulsion', 'extradimensional', 'mathematical', 'media', 'musical', 'recording', 'rewrite', 'safe', 'scp', 'telekinetic', 'transfiguration'], '093': ['artifact', 'autonomous', 'engraved', 'euclid', 'extradimensional', 'featured', 'indestructible', 'portal', 'rewrite', 'scp', 'stone'], '094': ['acoustic', 'keter', 'rewrite', 'scp', 'spacetime', 'sphere'], '095': ['artistic', 'document', 'predictive', 'safe', 'scp'], '096': ['alive', 'cognitohazard', 'doctor-dan', 'euclid', 'humanoid', 'scp', 'visual'], '097': ['euclid', 'location', 'mind-affecting', 'plant', 'scp', 'sleep', 'vehicle'], '098': ['alive', 'arthropod', 'featured', 'safe', 'scp', 'species'], '099': ['artistic', 'cognitohazard', 'mind-affecting', 'rewrite', 'safe', 'scp', 'visual'], '100': ['automaton', 'euclid', 'humanoid', 'location', 'metallic', 'sapient', 'scp', 'self-replicating', 'sentient']}\n"
          ]
        }
      ]
    },
    {
      "cell_type": "code",
      "source": [
        ""
      ],
      "metadata": {
        "id": "r3DANPIAOXDQ"
      },
      "execution_count": 10,
      "outputs": []
    },
    {
      "cell_type": "code",
      "source": [
        "\n"
      ],
      "metadata": {
        "id": "DK3RGyqsMWH4"
      },
      "execution_count": 10,
      "outputs": []
    }
  ]
}